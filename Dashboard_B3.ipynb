{
  "nbformat": 4,
  "nbformat_minor": 0,
  "metadata": {
    "colab": {
      "provenance": []
    },
    "kernelspec": {
      "name": "python3",
      "display_name": "Python 3"
    },
    "language_info": {
      "name": "python"
    }
  },
  "cells": [
    {
      "cell_type": "markdown",
      "source": [
        "#1. importar bibliotecas"
      ],
      "metadata": {
        "id": "vFXbgHnDxXpK"
      }
    },
    {
      "cell_type": "code",
      "execution_count": null,
      "metadata": {
        "id": "Qokv-JJwxUSS"
      },
      "outputs": [],
      "source": [
        "!pip install pandas\n",
        "!pip install yfinance\n",
        "!pip install streamlit\n",
        "\n",
        "import pandas as pd\n",
        "import yfinance as yf\n",
        "import datetime as dt\n",
        "import streamlit as st"
      ]
    },
    {
      "cell_type": "code",
      "source": [
        "st.set_page_config( page_title=\"INDICADORES FINANCEIROS\", layout=\"wide\")"
      ],
      "metadata": {
        "id": "cV3llB2Nx_LQ"
      },
      "execution_count": 4,
      "outputs": []
    },
    {
      "cell_type": "code",
      "source": [
        "st.title(\"INDICADORES DA BOLSA\")\n",
        "st.caption(\"Esse Dashboard foi gerado com enfoque para monitorar as ações BEST e algumas FIIs. Empresas de Bancos, Energia, Sustentabilidade e \"\n",
        "             \"Telecomunicação\")\n"
      ],
      "metadata": {
        "colab": {
          "base_uri": "https://localhost:8080/"
        },
        "id": "pZloByauyGDj",
        "outputId": "dff1f357-d827-490b-9f75-4d716cacfe1a"
      },
      "execution_count": 5,
      "outputs": [
        {
          "output_type": "stream",
          "name": "stderr",
          "text": [
            "2023-08-22 15:06:29.516 \n",
            "  \u001b[33m\u001b[1mWarning:\u001b[0m to view this Streamlit app on a browser, run it with the following\n",
            "  command:\n",
            "\n",
            "    streamlit run /usr/local/lib/python3.10/dist-packages/ipykernel_launcher.py [ARGUMENTS]\n"
          ]
        },
        {
          "output_type": "execute_result",
          "data": {
            "text/plain": [
              "DeltaGenerator()"
            ]
          },
          "metadata": {},
          "execution_count": 5
        }
      ]
    },
    {
      "cell_type": "markdown",
      "source": [
        "# 2. Chamar a API"
      ],
      "metadata": {
        "id": "3HIVQ6V4yJHZ"
      }
    },
    {
      "cell_type": "code",
      "source": [
        "end_date = dt.datetime.today()\n",
        "start_date =  dt.datetime(end_date.year-1,end_date.month,end_date.day)\n",
        "lista_empresa = [\"VALE3.SA\", \"ITSA4.SA\", \"PETR4.SA\", \"BBAS3.SA\", \"IRBR3.SA\", \"KLBN11.SA\", \"KNRI11.SA\", \"HGLG11.SA\",\n",
        "                 \"SUZB3.SA\", \"UNIP6.SA\", \"TASA4.SA\", \"TRPL4.SA\", \"TAEE11.SA\", \"CMIG4.SA\"]"
      ],
      "metadata": {
        "id": "EPEYa7ewyKF6"
      },
      "execution_count": 6,
      "outputs": []
    },
    {
      "cell_type": "code",
      "source": [
        "with st.container():\n",
        "    st.header(\"Insira as informações solicitadas\")\n",
        "\n",
        "    col1, col2, col3 = st.columns(3)\n",
        "\n",
        "    with col1:\n",
        "        ativo = st.selectbox(\"Selecione os ativo desejado:\", options=lista_empresa)\n",
        "    with col2:\n",
        "        data_inicial = st.date_input(\"Selecione a Data inicial\", start_date)\n",
        "    with col3:\n",
        "        data_final = st.date_input(\"Selecione a Data final\", end_date)\n"
      ],
      "metadata": {
        "id": "JKIXT5tcyMfQ"
      },
      "execution_count": 7,
      "outputs": []
    },
    {
      "cell_type": "markdown",
      "source": [
        "#3. Gera o df"
      ],
      "metadata": {
        "id": "M-YeufAPySYh"
      }
    },
    {
      "cell_type": "code",
      "source": [
        "df = yf.download(tickers=ativo , start = data_inicial, end = data_final, actions=True)"
      ],
      "metadata": {
        "colab": {
          "base_uri": "https://localhost:8080/"
        },
        "id": "njDiMYE0yUYn",
        "outputId": "b350c10d-190e-49a4-f56c-7276a7b0109c"
      },
      "execution_count": 8,
      "outputs": [
        {
          "output_type": "stream",
          "name": "stdout",
          "text": [
            "\r[*********************100%%**********************]  1 of 1 completed\n"
          ]
        }
      ]
    },
    {
      "cell_type": "markdown",
      "source": [
        "#4. Criando metricas"
      ],
      "metadata": {
        "id": "w41LZ8KyyaJf"
      }
    },
    {
      "cell_type": "code",
      "source": [
        "ult_atualizacao = df.index.max() #Data da ultima att\n",
        "ult_cotacao = round(df.loc[df.index.max(), \"Adj Close\"], 2) #Pega a última cotacao\n",
        "menor_cotacao = round(df[\"Adj Close\"].min(), 2) #Pega a menor cotacao do periodo\n",
        "maior_cotacao = round(df[\"Adj Close\"].max(), 2) #Pega a maior cotacao do periodo\n",
        "prim_cotacao = round(df.loc[df.index.min(), \"Adj Close\"],2 ) #Pega a primeira cotacao encontrada\n",
        "delta = round(((ult_cotacao- prim_cotacao)/ prim_cotacao)*100,2) #A variacao da cotacao no periodo\n",
        "data = df[df[\"Dividends\"]>0]\n",
        "dividendo = data[\"Dividends\"].mean()\n",
        "dividendo_soma = data[\"Dividends\"].sum()\n",
        "historico = data[\"Dividends\"].count()\n",
        "Pl = ult_cotacao / dividendo_soma\n",
        "dividen_max = data[\"Dividends\"].max()\n",
        "dividen_min = data[\"Dividends\"].min()\n",
        "dividend_yeld = round(dividendo_soma/ult_cotacao,4)*100"
      ],
      "metadata": {
        "id": "BNQ9I5vGya6_"
      },
      "execution_count": 9,
      "outputs": []
    },
    {
      "cell_type": "code",
      "source": [
        "print(data)"
      ],
      "metadata": {
        "colab": {
          "base_uri": "https://localhost:8080/"
        },
        "id": "x0jnt7SmygC8",
        "outputId": "e5033956-e7e0-4086-fc94-c202e88e9f33"
      },
      "execution_count": 10,
      "outputs": [
        {
          "output_type": "stream",
          "name": "stdout",
          "text": [
            "                 Open       High        Low      Close  Adj Close    Volume  \\\n",
            "Date                                                                          \n",
            "2022-12-13  86.250000  87.400002  85.629997  86.160004  81.839508  31559400   \n",
            "2023-03-14  83.120003  84.349998  82.900002  83.980003  81.520630  18077900   \n",
            "2023-08-14  62.980000  63.040001  61.900002  61.900002  61.900002  41056900   \n",
            "\n",
            "            Dividends  Stock Splits  \n",
            "Date                                 \n",
            "2022-12-13   0.292013           0.0  \n",
            "2023-03-14   1.827646           0.0  \n",
            "2023-08-14   1.918472           0.0  \n"
          ]
        }
      ]
    },
    {
      "cell_type": "code",
      "source": [
        "with st.container():\n",
        "\n",
        "    st.subheader(f\"Indicadores principais da ação {ativo}\")\n",
        "    col11, col12, col13, col14, col15 = st.columns(5)\n",
        "\n",
        "    with col11:\n",
        "        st.metric(f\"Última atualização - {ult_atualizacao} \",\" R$ {:,.2f}\".format(ult_cotacao),f\"{delta}%\" )\n",
        "\n",
        "    with col12:\n",
        "        st.metric(f\"Menor cotação do período: \",\" R$ {:,.2f}\".format(menor_cotacao))\n",
        "\n",
        "    with col13:\n",
        "        st.metric(f\"Maior cotação do período: \",\" R$ {:,.2f}\".format(maior_cotacao))\n",
        "\n",
        "    with col14:\n",
        "        st.metric(f\"Preço/Lucro \",\" {:,.2f}\".format(Pl))\n",
        "\n",
        "    with col15:\n",
        "        st.metric(f\"Dividend yield\",\"  {:,.2f} %\".format(dividend_yeld) )"
      ],
      "metadata": {
        "id": "o7PSGYaXyjmE"
      },
      "execution_count": 11,
      "outputs": []
    },
    {
      "cell_type": "code",
      "source": [
        "with st.container():\n",
        "    st.text(\"Preço das ações:\")\n",
        "    st.area_chart(df[\"Adj Close\"])\n",
        "\n",
        "    st.text(\"Mínimo, Preço das Ações e Máximo\")\n",
        "    st.line_chart(df[[\"Low\",\"Adj Close\", \"High\"]])"
      ],
      "metadata": {
        "id": "OMAF-GMoypfK"
      },
      "execution_count": 12,
      "outputs": []
    },
    {
      "cell_type": "code",
      "source": [
        "with st.container():\n",
        "    st.subheader(\"Sobre os dividendos\")\n",
        "    st.caption(f\"Nessa parte iremos analisar profundamente a questão dos Dividendos pagos pela {ativo}\")\n",
        "\n",
        "    col5, col6, col7 = st.columns(3)\n",
        "\n",
        "    with col5:\n",
        "        st.caption(\"Tabela com todos os pagamentos no intervalo: \")\n",
        "        st.dataframe(data[[\"Dividends\"]])\n",
        "\n",
        "    with col6:\n",
        "        st.metric(f\"Quantidade de pagamentos no intervalo: \", \" {:,.2f}\".format(historico))\n",
        "        st.metric(f\"Pagamento médio (Dividendos): \", \" R$ {:,.2f}\".format(dividendo))\n",
        "\n",
        "    with col7:\n",
        "        st.metric(f\"Pagamento máximo Dividendo\", \"R$ {:,.2f}\".format(dividen_max))\n",
        "        st.metric(f\"Pagamento mínimo Dividendo\", \"R$ {:,.2f}\".format(dividen_min))"
      ],
      "metadata": {
        "id": "3Y23bW6xytv0"
      },
      "execution_count": 13,
      "outputs": []
    },
    {
      "cell_type": "code",
      "source": [
        "with st.container():\n",
        "    st.caption(\"Grafico de linhas com os pagamentos dos Dividendos:\")\n",
        "    st.line_chart(data[\"Dividends\"])"
      ],
      "metadata": {
        "id": "TT6hGu0Lyv1j"
      },
      "execution_count": 14,
      "outputs": []
    },
    {
      "cell_type": "code",
      "source": [
        "with st.container():\n",
        "    st.subheader(\"Simulador de lucros com Dividendo\")\n",
        "    number = st.number_input('Quanto seria o investimento?')\n",
        "    st.write('O investimento é de: R$ ', number)\n",
        "    lucro = number * (dividend_yeld/100)\n",
        "    compra = number / ult_cotacao\n",
        "    print(compra)\n",
        "    col21, col22 = st.columns(2)\n",
        "    with col21:\n",
        "\n",
        "        st.caption(\"FÓMULA PARA CÁLCULO DE LUCRO: Dividend Yield x Valor Investido\")\n",
        "        st.metric(f\"O lucro médio seria de: \", \" R$ {:,.2f}\".format(lucro))\n",
        "\n",
        "    with col22:\n",
        "        st.caption(\"Para ter esse lucro médio precisaria a quantidade de ações abaixo\")\n",
        "        st.metric(f\"Equivalente a \", \" {:,.0f} Ações\".format(compra))"
      ],
      "metadata": {
        "colab": {
          "base_uri": "https://localhost:8080/"
        },
        "id": "w90kPomcy0Ck",
        "outputId": "8f683c37-b488-47ee-8647-e9d63231ca1a"
      },
      "execution_count": 15,
      "outputs": [
        {
          "output_type": "stream",
          "name": "stdout",
          "text": [
            "0.0\n"
          ]
        }
      ]
    }
  ]
}